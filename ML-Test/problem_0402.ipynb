{
 "cells": [
  {
   "cell_type": "markdown",
   "metadata": {},
   "source": [
    "## Quiz #0402"
   ]
  },
  {
   "cell_type": "markdown",
   "metadata": {},
   "source": [
    "### \"OLS solution\""
   ]
  },
  {
   "cell_type": "code",
   "execution_count": 14,
   "metadata": {},
   "outputs": [],
   "source": [
    "import numpy as np\n",
    "import pandas as pd"
   ]
  },
  {
   "cell_type": "markdown",
   "metadata": {},
   "source": [
    "#### Answer the following question by providing Python code:\n",
    "<br>\n",
    "study = an array that contains the hours of study. This is the explanatory variable. <br>\n",
    "score = an array that contains the test scores. This is the response variable."
   ]
  },
  {
   "cell_type": "code",
   "execution_count": 3,
   "metadata": {},
   "outputs": [],
   "source": [
    "study = np.array([ 3, 4.5, 6, 1.2, 2, 6.9, 6.7, 5.5]).reshape(-1,1)\n",
    "score = np.array([ 88, 85, 90, 80, 81, 92, 95, 90]).reshape(-1,1)"
   ]
  },
  {
   "cell_type": "markdown",
   "metadata": {},
   "source": [
    "1). Define the 'linerRegression' class to match the output shown below:"
   ]
  },
  {
   "cell_type": "code",
   "execution_count": 53,
   "metadata": {},
   "outputs": [],
   "source": [
    "class linearRegression:\n",
    "    def __init__(self):\n",
    "        self.int=0\n",
    "        self.X1=0\n",
    "        self.R2=0\n",
    "\n",
    "    def train(self, input_X, input_Y):\n",
    "        X_=np.mean(input_X)\n",
    "        Y_=np.mean(input_Y)\n",
    "        m = len(input_X)\n",
    "        numer = 0\n",
    "        denom = 0\n",
    "        for i in range(m):\n",
    "            numer += (input_X[i] - X_) * (input_Y[i] - Y_)\n",
    "            denom += (input_X[i] - X_) ** 2\n",
    "        self.X1 = float(numer / denom)\n",
    "        c = Y_ - (m * X_)\n",
    "\n",
    "        max_x = np.max(input_X) + 100\n",
    "        min_x = np.min(input_Y) - 100\n",
    "\n",
    "        x = np.linspace (min_x, max_x, 100)\n",
    "        y = c + m * x\n",
    "\n",
    "        ss_t = 0 \n",
    "        ss_r = 0 \n",
    "\n",
    "        for i in range(8): \n",
    "            y_pred = c + m * input_X[i]\n",
    "            ss_t += (input_Y[i] - Y_) ** 2\n",
    "            ss_r += (y_pred - Y_) ** 2\n",
    "        self.R2 = 1 - (ss_r/ss_t)\n",
    "\n",
    "    def output(self):\n",
    "        print(\"\\t    Coefficient\")\n",
    "        print(\"Intercept\\t\",self.int)\n",
    "        print(\"X1\\t\\t\",self.X1)\n",
    "        print(\"------------------------------\")\n",
    "        print(\"R^2 :\",self.R2)"
   ]
  },
  {
   "cell_type": "markdown",
   "metadata": {},
   "source": [
    "**Sample run:**"
   ]
  },
  {
   "cell_type": "code",
   "execution_count": 54,
   "metadata": {},
   "outputs": [
    {
     "name": "stdout",
     "output_type": "stream",
     "text": [
      "\t    Coefficient\n",
      "Intercept\t 0\n",
      "X1\t\t 2.221302843387994\n",
      "------------------------------\n",
      "R^2 : [-9.97119278]\n"
     ]
    }
   ],
   "source": [
    "LR = linearRegression()                    # Create a linear regression object.\n",
    "LR.train(study, score)                     # Train.\n",
    "LR.output()                                # Display the training result."
   ]
  },
  {
   "cell_type": "code",
   "execution_count": null,
   "metadata": {},
   "outputs": [],
   "source": []
  }
 ],
 "metadata": {
  "kernelspec": {
   "display_name": "Python 3",
   "language": "python",
   "name": "python3"
  },
  "language_info": {
   "codemirror_mode": {
    "name": "ipython",
    "version": 3
   },
   "file_extension": ".py",
   "mimetype": "text/x-python",
   "name": "python",
   "nbconvert_exporter": "python",
   "pygments_lexer": "ipython3",
   "version": "3.8.8"
  },
  "toc": {
   "base_numbering": 1,
   "nav_menu": {},
   "number_sections": true,
   "sideBar": true,
   "skip_h1_title": false,
   "title_cell": "Table of Contents",
   "title_sidebar": "Contents",
   "toc_cell": false,
   "toc_position": {},
   "toc_section_display": true,
   "toc_window_display": false
  },
  "varInspector": {
   "cols": {
    "lenName": 16,
    "lenType": 16,
    "lenVar": 40
   },
   "kernels_config": {
    "python": {
     "delete_cmd_postfix": "",
     "delete_cmd_prefix": "del ",
     "library": "var_list.py",
     "varRefreshCmd": "print(var_dic_list())"
    },
    "r": {
     "delete_cmd_postfix": ") ",
     "delete_cmd_prefix": "rm(",
     "library": "var_list.r",
     "varRefreshCmd": "cat(var_dic_list()) "
    }
   },
   "types_to_exclude": [
    "module",
    "function",
    "builtin_function_or_method",
    "instance",
    "_Feature"
   ],
   "window_display": false
  }
 },
 "nbformat": 4,
 "nbformat_minor": 2
}
