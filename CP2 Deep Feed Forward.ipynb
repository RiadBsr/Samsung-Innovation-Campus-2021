{
 "cells": [
  {
   "cell_type": "code",
   "execution_count": 1,
   "id": "f1a47260",
   "metadata": {},
   "outputs": [],
   "source": [
    "import pandas as pd\n",
    "import seaborn as sns\n",
    "import matplotlib.pyplot as plt\n",
    "import tensorflow as tf\n",
    "from tensorflow import keras\n",
    "from keras.datasets import fashion_mnist\n",
    "from keras.models import Sequential\n",
    "from keras.layers import Dense, Dropout\n",
    "from keras.optimizer_v2 import rmsprop\n",
    "from sklearn.model_selection import train_test_split\n",
    "from sklearn.preprocessing import LabelEncoder\n",
    "from keras.callbacks import EarlyStopping"
   ]
  },
  {
   "cell_type": "code",
   "execution_count": 2,
   "id": "f70cafbf",
   "metadata": {},
   "outputs": [],
   "source": [
    "df=pd.read_csv('bank.csv',sep=',')"
   ]
  },
  {
   "cell_type": "code",
   "execution_count": 3,
   "id": "1703d7d6",
   "metadata": {},
   "outputs": [
    {
     "data": {
      "text/html": [
       "<div>\n",
       "<style scoped>\n",
       "    .dataframe tbody tr th:only-of-type {\n",
       "        vertical-align: middle;\n",
       "    }\n",
       "\n",
       "    .dataframe tbody tr th {\n",
       "        vertical-align: top;\n",
       "    }\n",
       "\n",
       "    .dataframe thead th {\n",
       "        text-align: right;\n",
       "    }\n",
       "</style>\n",
       "<table border=\"1\" class=\"dataframe\">\n",
       "  <thead>\n",
       "    <tr style=\"text-align: right;\">\n",
       "      <th></th>\n",
       "      <th>age</th>\n",
       "      <th>job</th>\n",
       "      <th>marital</th>\n",
       "      <th>education</th>\n",
       "      <th>default</th>\n",
       "      <th>balance</th>\n",
       "      <th>housing</th>\n",
       "      <th>loan</th>\n",
       "      <th>contact</th>\n",
       "      <th>day</th>\n",
       "      <th>month</th>\n",
       "      <th>duration</th>\n",
       "      <th>campaign</th>\n",
       "      <th>pdays</th>\n",
       "      <th>previous</th>\n",
       "      <th>poutcome</th>\n",
       "      <th>deposit</th>\n",
       "    </tr>\n",
       "  </thead>\n",
       "  <tbody>\n",
       "    <tr>\n",
       "      <th>0</th>\n",
       "      <td>59</td>\n",
       "      <td>admin.</td>\n",
       "      <td>married</td>\n",
       "      <td>secondary</td>\n",
       "      <td>no</td>\n",
       "      <td>2343</td>\n",
       "      <td>yes</td>\n",
       "      <td>no</td>\n",
       "      <td>unknown</td>\n",
       "      <td>5</td>\n",
       "      <td>may</td>\n",
       "      <td>1042</td>\n",
       "      <td>1</td>\n",
       "      <td>-1</td>\n",
       "      <td>0</td>\n",
       "      <td>unknown</td>\n",
       "      <td>yes</td>\n",
       "    </tr>\n",
       "    <tr>\n",
       "      <th>1</th>\n",
       "      <td>56</td>\n",
       "      <td>admin.</td>\n",
       "      <td>married</td>\n",
       "      <td>secondary</td>\n",
       "      <td>no</td>\n",
       "      <td>45</td>\n",
       "      <td>no</td>\n",
       "      <td>no</td>\n",
       "      <td>unknown</td>\n",
       "      <td>5</td>\n",
       "      <td>may</td>\n",
       "      <td>1467</td>\n",
       "      <td>1</td>\n",
       "      <td>-1</td>\n",
       "      <td>0</td>\n",
       "      <td>unknown</td>\n",
       "      <td>yes</td>\n",
       "    </tr>\n",
       "    <tr>\n",
       "      <th>2</th>\n",
       "      <td>41</td>\n",
       "      <td>technician</td>\n",
       "      <td>married</td>\n",
       "      <td>secondary</td>\n",
       "      <td>no</td>\n",
       "      <td>1270</td>\n",
       "      <td>yes</td>\n",
       "      <td>no</td>\n",
       "      <td>unknown</td>\n",
       "      <td>5</td>\n",
       "      <td>may</td>\n",
       "      <td>1389</td>\n",
       "      <td>1</td>\n",
       "      <td>-1</td>\n",
       "      <td>0</td>\n",
       "      <td>unknown</td>\n",
       "      <td>yes</td>\n",
       "    </tr>\n",
       "    <tr>\n",
       "      <th>3</th>\n",
       "      <td>55</td>\n",
       "      <td>services</td>\n",
       "      <td>married</td>\n",
       "      <td>secondary</td>\n",
       "      <td>no</td>\n",
       "      <td>2476</td>\n",
       "      <td>yes</td>\n",
       "      <td>no</td>\n",
       "      <td>unknown</td>\n",
       "      <td>5</td>\n",
       "      <td>may</td>\n",
       "      <td>579</td>\n",
       "      <td>1</td>\n",
       "      <td>-1</td>\n",
       "      <td>0</td>\n",
       "      <td>unknown</td>\n",
       "      <td>yes</td>\n",
       "    </tr>\n",
       "    <tr>\n",
       "      <th>4</th>\n",
       "      <td>54</td>\n",
       "      <td>admin.</td>\n",
       "      <td>married</td>\n",
       "      <td>tertiary</td>\n",
       "      <td>no</td>\n",
       "      <td>184</td>\n",
       "      <td>no</td>\n",
       "      <td>no</td>\n",
       "      <td>unknown</td>\n",
       "      <td>5</td>\n",
       "      <td>may</td>\n",
       "      <td>673</td>\n",
       "      <td>2</td>\n",
       "      <td>-1</td>\n",
       "      <td>0</td>\n",
       "      <td>unknown</td>\n",
       "      <td>yes</td>\n",
       "    </tr>\n",
       "  </tbody>\n",
       "</table>\n",
       "</div>"
      ],
      "text/plain": [
       "   age         job  marital  education default  balance housing loan  contact  \\\n",
       "0   59      admin.  married  secondary      no     2343     yes   no  unknown   \n",
       "1   56      admin.  married  secondary      no       45      no   no  unknown   \n",
       "2   41  technician  married  secondary      no     1270     yes   no  unknown   \n",
       "3   55    services  married  secondary      no     2476     yes   no  unknown   \n",
       "4   54      admin.  married   tertiary      no      184      no   no  unknown   \n",
       "\n",
       "   day month  duration  campaign  pdays  previous poutcome deposit  \n",
       "0    5   may      1042         1     -1         0  unknown     yes  \n",
       "1    5   may      1467         1     -1         0  unknown     yes  \n",
       "2    5   may      1389         1     -1         0  unknown     yes  \n",
       "3    5   may       579         1     -1         0  unknown     yes  \n",
       "4    5   may       673         2     -1         0  unknown     yes  "
      ]
     },
     "execution_count": 3,
     "metadata": {},
     "output_type": "execute_result"
    }
   ],
   "source": [
    "df.head()"
   ]
  },
  {
   "cell_type": "code",
   "execution_count": 4,
   "id": "4b653beb",
   "metadata": {},
   "outputs": [
    {
     "data": {
      "text/plain": [
       "<AxesSubplot:xlabel='deposit', ylabel='age'>"
      ]
     },
     "execution_count": 4,
     "metadata": {},
     "output_type": "execute_result"
    },
    {
     "data": {
      "image/png": "[encoded data removed]",
      "text/plain": [
       "<Figure size 504x504 with 1 Axes>"
      ]
     },
     "metadata": {
      "needs_background": "light"
     },
     "output_type": "display_data"
    }
   ],
   "source": [
    "plt.figure(figsize=[7,7])\n",
    "sns.barplot(data=df, x=\"deposit\", y=\"age\",hue=\"marital\")"
   ]
  },
  {
   "cell_type": "code",
   "execution_count": 5,
   "id": "66625f28",
   "metadata": {},
   "outputs": [
    {
     "data": {
      "text/plain": [
       "<AxesSubplot:xlabel='duration', ylabel='balance'>"
      ]
     },
     "execution_count": 5,
     "metadata": {},
     "output_type": "execute_result"
    },
    {
     "data": {
      "image/png": "[encoded data removed]",
      "text/plain": [
       "<Figure size 504x504 with 1 Axes>"
      ]
     },
     "metadata": {
      "needs_background": "light"
     },
     "output_type": "display_data"
    }
   ],
   "source": [
    "plt.figure(figsize=[7,7])\n",
    "sns.scatterplot(data=df, x=\"duration\", y=\"balance\",hue=\"deposit\")"
   ]
  },
  {
   "cell_type": "code",
   "execution_count": 6,
   "id": "71503381",
   "metadata": {},
   "outputs": [
    {
     "data": {
      "text/plain": [
       "<AxesSubplot:xlabel='deposit', ylabel='duration'>"
      ]
     },
     "execution_count": 6,
     "metadata": {},
     "output_type": "execute_result"
    },
    {
     "data": {
      "image/png": "[encoded data removed]",
      "text/plain": [
       "<Figure size 504x504 with 1 Axes>"
      ]
     },
     "metadata": {
      "needs_background": "light"
     },
     "output_type": "display_data"
    }
   ],
   "source": [
    "plt.figure(figsize=[7,7])\n",
    "sns.barplot(data=df, x=\"deposit\", y=\"duration\",hue=\"marital\")"
   ]
  },
  {
   "cell_type": "code",
   "execution_count": 7,
   "id": "cb55aeac",
   "metadata": {},
   "outputs": [
    {
     "data": {
      "text/plain": [
       "<AxesSubplot:xlabel='job', ylabel='duration'>"
      ]
     },
     "execution_count": 7,
     "metadata": {},
     "output_type": "execute_result"
    },
    {
     "data": {
      "image/png": "[encoded data removed]",
      "text/plain": [
       "<Figure size 1080x504 with 1 Axes>"
      ]
     },
     "metadata": {
      "needs_background": "light"
     },
     "output_type": "display_data"
    }
   ],
   "source": [
    "plt.figure(figsize=[15,7])\n",
    "sns.barplot(data=df, x=\"job\", y=\"duration\",hue=\"marital\")"
   ]
  },
  {
   "cell_type": "code",
   "execution_count": 8,
   "id": "b96bf30c",
   "metadata": {},
   "outputs": [
    {
     "data": {
      "image/png": "[encoded data removed]",
      "text/plain": [
       "<Figure size 864x720 with 2 Axes>"
      ]
     },
     "metadata": {
      "needs_background": "light"
     },
     "output_type": "display_data"
    }
   ],
   "source": [
    "def plot_correlation_map( df ):\n",
    "    corr = df.corr()\n",
    "    s , ax = plt.subplots( figsize =( 12 , 10 ) )\n",
    "    cmap = sns.diverging_palette( 220 , 10 , as_cmap = True )\n",
    "    s = sns.heatmap(\n",
    "        corr, \n",
    "        cmap = cmap,\n",
    "        square=True, \n",
    "        cbar_kws={ 'shrink' : .9 }, \n",
    "        ax=ax, \n",
    "        annot = True, \n",
    "        annot_kws = { 'fontsize' : 12 }\n",
    "        )\n",
    "plot_correlation_map(df)"
   ]
  },
  {
   "cell_type": "code",
   "execution_count": 9,
   "id": "061b61a4",
   "metadata": {},
   "outputs": [
    {
     "data": {
      "text/plain": [
       "array([ 1,  2,  3,  4,  6,  5,  8, 11,  9, 10, 15, 12, 14,  7, 24, 13, 17,\n",
       "       29, 21, 20, 16, 32, 19, 25, 22, 43, 18, 41, 63, 27, 30, 26, 23, 28,\n",
       "       33, 31], dtype=int64)"
      ]
     },
     "execution_count": 9,
     "metadata": {},
     "output_type": "execute_result"
    }
   ],
   "source": [
    "df.describe()\n",
    "df.campaign.unique()"
   ]
  },
  {
   "cell_type": "code",
   "execution_count": 10,
   "id": "6f23f300",
   "metadata": {},
   "outputs": [
    {
     "name": "stdout",
     "output_type": "stream",
     "text": [
      "<class 'pandas.core.frame.DataFrame'>\n",
      "RangeIndex: 11162 entries, 0 to 11161\n",
      "Data columns (total 17 columns):\n",
      " #   Column     Non-Null Count  Dtype \n",
      "---  ------     --------------  ----- \n",
      " 0   age        11162 non-null  int64 \n",
      " 1   job        11162 non-null  object\n",
      " 2   marital    11162 non-null  object\n",
      " 3   education  11162 non-null  object\n",
      " 4   default    11162 non-null  object\n",
      " 5   balance    11162 non-null  int64 \n",
      " 6   housing    11162 non-null  object\n",
      " 7   loan       11162 non-null  object\n",
      " 8   contact    11162 non-null  object\n",
      " 9   day        11162 non-null  int64 \n",
      " 10  month      11162 non-null  object\n",
      " 11  duration   11162 non-null  int64 \n",
      " 12  campaign   11162 non-null  int64 \n",
      " 13  pdays      11162 non-null  int64 \n",
      " 14  previous   11162 non-null  int64 \n",
      " 15  poutcome   11162 non-null  object\n",
      " 16  deposit    11162 non-null  object\n",
      "dtypes: int64(7), object(10)\n",
      "memory usage: 1.4+ MB\n"
     ]
    }
   ],
   "source": [
    "df.info()"
   ]
  },
  {
   "cell_type": "code",
   "execution_count": 11,
   "id": "80cda4c0",
   "metadata": {},
   "outputs": [
    {
     "name": "stdout",
     "output_type": "stream",
     "text": [
      "Unknown values percentage\n",
      "age :    \t 0.0 %\n",
      "job :    \t 1.0 %\n",
      "marital :    \t 0.0 %\n",
      "education :    \t 4.0 %\n",
      "default :    \t 0.0 %\n",
      "balance :    \t 0.0 %\n",
      "housing :    \t 0.0 %\n",
      "loan :    \t 0.0 %\n",
      "contact :    \t 21.0 %\n",
      "day :    \t 0.0 %\n",
      "month :    \t 0.0 %\n",
      "duration :    \t 0.0 %\n",
      "campaign :    \t 0.0 %\n",
      "pdays :    \t 0.0 %\n",
      "previous :    \t 0.0 %\n",
      "poutcome :    \t 75.0 %\n",
      "deposit :    \t 0.0 %\n"
     ]
    }
   ],
   "source": [
    "print(\"Unknown values percentage\")\n",
    "for column in df.columns:\n",
    "    print(column, \":    \\t\",round(list(df[column]=='unknown').count(True)/df.shape[0],2)*100,'%' )"
   ]
  },
  {
   "cell_type": "code",
   "execution_count": 12,
   "id": "70fca2b7",
   "metadata": {},
   "outputs": [
    {
     "data": {
      "text/plain": [
       "management       2566\n",
       "blue-collar      1944\n",
       "technician       1823\n",
       "admin.           1334\n",
       "services          923\n",
       "retired           778\n",
       "self-employed     405\n",
       "student           360\n",
       "unemployed        357\n",
       "entrepreneur      328\n",
       "housemaid         274\n",
       "unknown            70\n",
       "Name: job, dtype: int64"
      ]
     },
     "execution_count": 12,
     "metadata": {},
     "output_type": "execute_result"
    }
   ],
   "source": [
    "df.job.value_counts()"
   ]
  },
  {
   "cell_type": "code",
   "execution_count": 13,
   "id": "049cdfe5",
   "metadata": {},
   "outputs": [
    {
     "name": "stderr",
     "output_type": "stream",
     "text": [
      "<ipython-input-13-b8fa820bd9ed>:3: SettingWithCopyWarning: \n",
      "A value is trying to be set on a copy of a slice from a DataFrame\n",
      "\n",
      "See the caveats in the documentation: https://pandas.pydata.org/pandas-docs/stable/user_guide/indexing.html#returning-a-view-versus-a-copy\n",
      "  df['job'][i]='management'\n"
     ]
    },
    {
     "data": {
      "text/plain": [
       "management       2636\n",
       "blue-collar      1944\n",
       "technician       1823\n",
       "admin.           1334\n",
       "services          923\n",
       "retired           778\n",
       "self-employed     405\n",
       "student           360\n",
       "unemployed        357\n",
       "entrepreneur      328\n",
       "housemaid         274\n",
       "Name: job, dtype: int64"
      ]
     },
     "execution_count": 13,
     "metadata": {},
     "output_type": "execute_result"
    }
   ],
   "source": [
    "for i in range(df.shape[0]):\n",
    "    if df['job'][i]=='unknown':\n",
    "        df['job'][i]='management'\n",
    "df.job.value_counts()"
   ]
  },
  {
   "cell_type": "code",
   "execution_count": 14,
   "id": "2287d33f",
   "metadata": {},
   "outputs": [
    {
     "data": {
      "text/plain": [
       "secondary    5476\n",
       "tertiary     3689\n",
       "primary      1500\n",
       "unknown       497\n",
       "Name: education, dtype: int64"
      ]
     },
     "execution_count": 14,
     "metadata": {},
     "output_type": "execute_result"
    }
   ],
   "source": [
    "df.education.value_counts()"
   ]
  },
  {
   "cell_type": "code",
   "execution_count": 15,
   "id": "d5c5c448",
   "metadata": {},
   "outputs": [
    {
     "name": "stderr",
     "output_type": "stream",
     "text": [
      "<ipython-input-15-d7728de93d69>:3: SettingWithCopyWarning: \n",
      "A value is trying to be set on a copy of a slice from a DataFrame\n",
      "\n",
      "See the caveats in the documentation: https://pandas.pydata.org/pandas-docs/stable/user_guide/indexing.html#returning-a-view-versus-a-copy\n",
      "  df['education'][i]='secondary'\n"
     ]
    },
    {
     "data": {
      "text/plain": [
       "secondary    5973\n",
       "tertiary     3689\n",
       "primary      1500\n",
       "Name: education, dtype: int64"
      ]
     },
     "execution_count": 15,
     "metadata": {},
     "output_type": "execute_result"
    }
   ],
   "source": [
    "for i in range(df.shape[0]):\n",
    "    if df['education'][i]=='unknown':\n",
    "        df['education'][i]='secondary'\n",
    "df.education.value_counts()"
   ]
  },
  {
   "cell_type": "code",
   "execution_count": 16,
   "id": "833d19cc",
   "metadata": {},
   "outputs": [
    {
     "data": {
      "text/plain": [
       "cellular     8042\n",
       "unknown      2346\n",
       "telephone     774\n",
       "Name: contact, dtype: int64"
      ]
     },
     "execution_count": 16,
     "metadata": {},
     "output_type": "execute_result"
    }
   ],
   "source": [
    "df.contact.value_counts()"
   ]
  },
  {
   "cell_type": "code",
   "execution_count": 17,
   "id": "a4064aa5",
   "metadata": {},
   "outputs": [
    {
     "name": "stderr",
     "output_type": "stream",
     "text": [
      "<ipython-input-17-96426de5c345>:3: SettingWithCopyWarning: \n",
      "A value is trying to be set on a copy of a slice from a DataFrame\n",
      "\n",
      "See the caveats in the documentation: https://pandas.pydata.org/pandas-docs/stable/user_guide/indexing.html#returning-a-view-versus-a-copy\n",
      "  df['contact'][i]='cellular'\n"
     ]
    },
    {
     "data": {
      "text/plain": [
       "cellular     10388\n",
       "telephone      774\n",
       "Name: contact, dtype: int64"
      ]
     },
     "execution_count": 17,
     "metadata": {},
     "output_type": "execute_result"
    }
   ],
   "source": [
    "for i in range(df.shape[0]):\n",
    "    if df['contact'][i]=='unknown':\n",
    "        df['contact'][i]='cellular'\n",
    "df.contact.value_counts()"
   ]
  },
  {
   "cell_type": "code",
   "execution_count": 18,
   "id": "1114a819",
   "metadata": {},
   "outputs": [],
   "source": [
    "df.drop(columns=['poutcome','day','campaign'],inplace=True)"
   ]
  },
  {
   "cell_type": "code",
   "execution_count": 19,
   "id": "e97b8ba0",
   "metadata": {},
   "outputs": [
    {
     "data": {
      "text/html": [
       "<div>\n",
       "<style scoped>\n",
       "    .dataframe tbody tr th:only-of-type {\n",
       "        vertical-align: middle;\n",
       "    }\n",
       "\n",
       "    .dataframe tbody tr th {\n",
       "        vertical-align: top;\n",
       "    }\n",
       "\n",
       "    .dataframe thead th {\n",
       "        text-align: right;\n",
       "    }\n",
       "</style>\n",
       "<table border=\"1\" class=\"dataframe\">\n",
       "  <thead>\n",
       "    <tr style=\"text-align: right;\">\n",
       "      <th></th>\n",
       "      <th>age</th>\n",
       "      <th>job</th>\n",
       "      <th>marital</th>\n",
       "      <th>education</th>\n",
       "      <th>default</th>\n",
       "      <th>balance</th>\n",
       "      <th>housing</th>\n",
       "      <th>loan</th>\n",
       "      <th>contact</th>\n",
       "      <th>month</th>\n",
       "      <th>duration</th>\n",
       "      <th>pdays</th>\n",
       "      <th>previous</th>\n",
       "      <th>deposit</th>\n",
       "    </tr>\n",
       "  </thead>\n",
       "  <tbody>\n",
       "    <tr>\n",
       "      <th>0</th>\n",
       "      <td>59</td>\n",
       "      <td>1</td>\n",
       "      <td>1</td>\n",
       "      <td>2</td>\n",
       "      <td>0</td>\n",
       "      <td>2343</td>\n",
       "      <td>1</td>\n",
       "      <td>0</td>\n",
       "      <td>0</td>\n",
       "      <td>5</td>\n",
       "      <td>1042</td>\n",
       "      <td>-1</td>\n",
       "      <td>0</td>\n",
       "      <td>1</td>\n",
       "    </tr>\n",
       "    <tr>\n",
       "      <th>1</th>\n",
       "      <td>56</td>\n",
       "      <td>1</td>\n",
       "      <td>1</td>\n",
       "      <td>2</td>\n",
       "      <td>0</td>\n",
       "      <td>45</td>\n",
       "      <td>0</td>\n",
       "      <td>0</td>\n",
       "      <td>0</td>\n",
       "      <td>5</td>\n",
       "      <td>1467</td>\n",
       "      <td>-1</td>\n",
       "      <td>0</td>\n",
       "      <td>1</td>\n",
       "    </tr>\n",
       "    <tr>\n",
       "      <th>2</th>\n",
       "      <td>41</td>\n",
       "      <td>2</td>\n",
       "      <td>1</td>\n",
       "      <td>2</td>\n",
       "      <td>0</td>\n",
       "      <td>1270</td>\n",
       "      <td>1</td>\n",
       "      <td>0</td>\n",
       "      <td>0</td>\n",
       "      <td>5</td>\n",
       "      <td>1389</td>\n",
       "      <td>-1</td>\n",
       "      <td>0</td>\n",
       "      <td>1</td>\n",
       "    </tr>\n",
       "    <tr>\n",
       "      <th>3</th>\n",
       "      <td>55</td>\n",
       "      <td>3</td>\n",
       "      <td>1</td>\n",
       "      <td>2</td>\n",
       "      <td>0</td>\n",
       "      <td>2476</td>\n",
       "      <td>1</td>\n",
       "      <td>0</td>\n",
       "      <td>0</td>\n",
       "      <td>5</td>\n",
       "      <td>579</td>\n",
       "      <td>-1</td>\n",
       "      <td>0</td>\n",
       "      <td>1</td>\n",
       "    </tr>\n",
       "    <tr>\n",
       "      <th>4</th>\n",
       "      <td>54</td>\n",
       "      <td>1</td>\n",
       "      <td>1</td>\n",
       "      <td>3</td>\n",
       "      <td>0</td>\n",
       "      <td>184</td>\n",
       "      <td>0</td>\n",
       "      <td>0</td>\n",
       "      <td>0</td>\n",
       "      <td>5</td>\n",
       "      <td>673</td>\n",
       "      <td>-1</td>\n",
       "      <td>0</td>\n",
       "      <td>1</td>\n",
       "    </tr>\n",
       "  </tbody>\n",
       "</table>\n",
       "</div>"
      ],
      "text/plain": [
       "   age  job  marital  education  default  balance  housing  loan  contact  \\\n",
       "0   59    1        1          2        0     2343        1     0        0   \n",
       "1   56    1        1          2        0       45        0     0        0   \n",
       "2   41    2        1          2        0     1270        1     0        0   \n",
       "3   55    3        1          2        0     2476        1     0        0   \n",
       "4   54    1        1          3        0      184        0     0        0   \n",
       "\n",
       "   month  duration  pdays  previous  deposit  \n",
       "0      5      1042     -1         0        1  \n",
       "1      5      1467     -1         0        1  \n",
       "2      5      1389     -1         0        1  \n",
       "3      5       579     -1         0        1  \n",
       "4      5       673     -1         0        1  "
      ]
     },
     "execution_count": 19,
     "metadata": {},
     "output_type": "execute_result"
    }
   ],
   "source": [
    "df[\"job\"]=df[\"job\"].map({\"admin.\": 1, \"technician\": 2, \"services\": 3, \"management\": 4, \"retired\": 5,\n",
    "                         \"blue-collar\": 6, \"unemployed\": 7, \"entrepreneur\": 8, \"housemaid\": 9, \"self-employed\": 10,\n",
    "                        'student': 11})\n",
    "df[\"marital\"]=df[\"marital\"].map({\"married\": 1, \"single\": 2,'divorced': 3})\n",
    "df[\"education\"]=df[\"education\"].map({\"primary\": 1,\"secondary\": 2, \"tertiary\": 3})\n",
    "df[\"default\"]=df[\"default\"].map({\"no\": 0, \"yes\": 1})\n",
    "df[\"housing\"]=df[\"housing\"].map({\"no\": 0, \"yes\": 1})\n",
    "df[\"loan\"]=df[\"loan\"].map({\"no\": 0, \"yes\": 1})\n",
    "df[\"contact\"]=df[\"contact\"].map({\"cellular\": 0, \"telephone\": 1})\n",
    "df[\"month\"]=df[\"month\"].map({'jan': 1,'feb': 2,'mar': 3,'apr': 4,'may': 5,'jun': 6,'jul': 7,'aug': 8,'sep': 9, 'oct': 10,'nov': 11,'dec': 12})\n",
    "df[\"deposit\"]=df[\"deposit\"].map({\"no\": 0, \"yes\": 1})\n",
    "\n",
    "df.head()"
   ]
  },
  {
   "cell_type": "code",
   "execution_count": 20,
   "id": "f30302f8",
   "metadata": {},
   "outputs": [
    {
     "data": {
      "text/html": [
       "<div>\n",
       "<style scoped>\n",
       "    .dataframe tbody tr th:only-of-type {\n",
       "        vertical-align: middle;\n",
       "    }\n",
       "\n",
       "    .dataframe tbody tr th {\n",
       "        vertical-align: top;\n",
       "    }\n",
       "\n",
       "    .dataframe thead th {\n",
       "        text-align: right;\n",
       "    }\n",
       "</style>\n",
       "<table border=\"1\" class=\"dataframe\">\n",
       "  <thead>\n",
       "    <tr style=\"text-align: right;\">\n",
       "      <th></th>\n",
       "      <th>age</th>\n",
       "      <th>job</th>\n",
       "      <th>marital</th>\n",
       "      <th>education</th>\n",
       "      <th>default\\t</th>\n",
       "      <th>balance</th>\n",
       "      <th>housing</th>\n",
       "      <th>loan</th>\n",
       "      <th>contact</th>\n",
       "      <th>month</th>\n",
       "      <th>duration</th>\n",
       "      <th>pdays</th>\n",
       "      <th>previous</th>\n",
       "      <th>deposit</th>\n",
       "    </tr>\n",
       "  </thead>\n",
       "  <tbody>\n",
       "    <tr>\n",
       "      <th>0</th>\n",
       "      <td>0.532468</td>\n",
       "      <td>0.0</td>\n",
       "      <td>0.0</td>\n",
       "      <td>0.5</td>\n",
       "      <td>0.0</td>\n",
       "      <td>0.104371</td>\n",
       "      <td>1.0</td>\n",
       "      <td>0.0</td>\n",
       "      <td>0.0</td>\n",
       "      <td>0.363636</td>\n",
       "      <td>0.268110</td>\n",
       "      <td>0.0</td>\n",
       "      <td>0.0</td>\n",
       "      <td>1.0</td>\n",
       "    </tr>\n",
       "    <tr>\n",
       "      <th>1</th>\n",
       "      <td>0.493506</td>\n",
       "      <td>0.0</td>\n",
       "      <td>0.0</td>\n",
       "      <td>0.5</td>\n",
       "      <td>0.0</td>\n",
       "      <td>0.078273</td>\n",
       "      <td>0.0</td>\n",
       "      <td>0.0</td>\n",
       "      <td>0.0</td>\n",
       "      <td>0.363636</td>\n",
       "      <td>0.377675</td>\n",
       "      <td>0.0</td>\n",
       "      <td>0.0</td>\n",
       "      <td>1.0</td>\n",
       "    </tr>\n",
       "    <tr>\n",
       "      <th>2</th>\n",
       "      <td>0.298701</td>\n",
       "      <td>0.1</td>\n",
       "      <td>0.0</td>\n",
       "      <td>0.5</td>\n",
       "      <td>0.0</td>\n",
       "      <td>0.092185</td>\n",
       "      <td>1.0</td>\n",
       "      <td>0.0</td>\n",
       "      <td>0.0</td>\n",
       "      <td>0.363636</td>\n",
       "      <td>0.357566</td>\n",
       "      <td>0.0</td>\n",
       "      <td>0.0</td>\n",
       "      <td>1.0</td>\n",
       "    </tr>\n",
       "    <tr>\n",
       "      <th>3</th>\n",
       "      <td>0.480519</td>\n",
       "      <td>0.2</td>\n",
       "      <td>0.0</td>\n",
       "      <td>0.5</td>\n",
       "      <td>0.0</td>\n",
       "      <td>0.105882</td>\n",
       "      <td>1.0</td>\n",
       "      <td>0.0</td>\n",
       "      <td>0.0</td>\n",
       "      <td>0.363636</td>\n",
       "      <td>0.148750</td>\n",
       "      <td>0.0</td>\n",
       "      <td>0.0</td>\n",
       "      <td>1.0</td>\n",
       "    </tr>\n",
       "    <tr>\n",
       "      <th>4</th>\n",
       "      <td>0.467532</td>\n",
       "      <td>0.0</td>\n",
       "      <td>0.0</td>\n",
       "      <td>1.0</td>\n",
       "      <td>0.0</td>\n",
       "      <td>0.079851</td>\n",
       "      <td>0.0</td>\n",
       "      <td>0.0</td>\n",
       "      <td>0.0</td>\n",
       "      <td>0.363636</td>\n",
       "      <td>0.172983</td>\n",
       "      <td>0.0</td>\n",
       "      <td>0.0</td>\n",
       "      <td>1.0</td>\n",
       "    </tr>\n",
       "  </tbody>\n",
       "</table>\n",
       "</div>"
      ],
      "text/plain": [
       "        age  job  marital  education  default\\t   balance  housing  loan  \\\n",
       "0  0.532468  0.0      0.0        0.5        0.0  0.104371      1.0   0.0   \n",
       "1  0.493506  0.0      0.0        0.5        0.0  0.078273      0.0   0.0   \n",
       "2  0.298701  0.1      0.0        0.5        0.0  0.092185      1.0   0.0   \n",
       "3  0.480519  0.2      0.0        0.5        0.0  0.105882      1.0   0.0   \n",
       "4  0.467532  0.0      0.0        1.0        0.0  0.079851      0.0   0.0   \n",
       "\n",
       "   contact     month  duration  pdays  previous  deposit  \n",
       "0      0.0  0.363636  0.268110    0.0       0.0      1.0  \n",
       "1      0.0  0.363636  0.377675    0.0       0.0      1.0  \n",
       "2      0.0  0.363636  0.357566    0.0       0.0      1.0  \n",
       "3      0.0  0.363636  0.148750    0.0       0.0      1.0  \n",
       "4      0.0  0.363636  0.172983    0.0       0.0      1.0  "
      ]
     },
     "execution_count": 20,
     "metadata": {},
     "output_type": "execute_result"
    }
   ],
   "source": [
    "from sklearn import preprocessing\n",
    "x = df.values\n",
    "min_max_scaler = preprocessing.MinMaxScaler()\n",
    "x_scaled = min_max_scaler.fit_transform(x)\n",
    "df = pd.DataFrame(x_scaled)\n",
    "df.rename(columns={0: \"age\", 1: \"job\", 2: \"marital\", 3: \"education\",\n",
    "                    4: \"default\t\", 5: \"balance\", 6: \"housing\", 7: \"loan\",\n",
    "                    8: \"contact\",9: \"month\",10: \"duration\",\n",
    "                    11: \"pdays\",12: \"previous\",13: \"deposit\"},inplace=True)\n",
    "\n",
    "df.head()"
   ]
  },
  {
   "cell_type": "code",
   "execution_count": 21,
   "id": "8b3ff0f3",
   "metadata": {},
   "outputs": [],
   "source": [
    "X = df.drop(columns=['deposit'])\n",
    "Y = df['deposit']\n",
    "\n",
    "encoder=LabelEncoder()\n",
    "encoder.fit(Y)\n",
    "encoded_Y = encoder.transform(Y)\n",
    "Y = keras.utils.to_categorical(encoded_Y)"
   ]
  },
  {
   "cell_type": "code",
   "execution_count": 22,
   "id": "eb151529",
   "metadata": {},
   "outputs": [],
   "source": [
    "X_train, X_test, Y_train,Y_test = train_test_split(X, Y, test_size = 0.1)\n",
    "X_model, X_valid, Y_model, Y_valid = train_test_split(X_train, Y_train, test_size = 0.15)"
   ]
  },
  {
   "cell_type": "code",
   "execution_count": 38,
   "id": "1a609a6e",
   "metadata": {},
   "outputs": [
    {
     "name": "stdout",
     "output_type": "stream",
     "text": [
      "Model: \"sequential_7\"\n",
      "_________________________________________________________________\n",
      "Layer (type)                 Output Shape              Param #   \n",
      "=================================================================\n",
      "dense_20 (Dense)             (None, 128)               1792      \n",
      "_________________________________________________________________\n",
      "dropout_7 (Dropout)          (None, 128)               0         \n",
      "_________________________________________________________________\n",
      "dense_21 (Dense)             (None, 64)                8256      \n",
      "_________________________________________________________________\n",
      "dense_22 (Dense)             (None, 2)                 130       \n",
      "=================================================================\n",
      "Total params: 10,178\n",
      "Trainable params: 10,178\n",
      "Non-trainable params: 0\n",
      "_________________________________________________________________\n"
     ]
    }
   ],
   "source": [
    "model= Sequential([\n",
    "    Dense(128, input_dim = 13, activation='relu'),\n",
    "    Dropout(0.2, input_shape=(128,)),\n",
    "    Dense(64,  activation='relu'),\n",
    "    Dense(2, activation='sigmoid') ])\n",
    "model.summary()"
   ]
  },
  {
   "cell_type": "code",
   "execution_count": 40,
   "id": "c5ed3f46",
   "metadata": {},
   "outputs": [
    {
     "name": "stdout",
     "output_type": "stream",
     "text": [
      "Epoch 1/100\n",
      "314/314 [==============================] - 1s 1ms/step - loss: 0.3750 - accuracy: 0.8338 - val_loss: 0.3440 - val_accuracy: 0.8567\n",
      "Epoch 2/100\n",
      "314/314 [==============================] - 0s 771us/step - loss: 0.3738 - accuracy: 0.8339 - val_loss: 0.3469 - val_accuracy: 0.8593\n",
      "Epoch 3/100\n",
      "314/314 [==============================] - 0s 860us/step - loss: 0.3710 - accuracy: 0.8344 - val_loss: 0.3387 - val_accuracy: 0.8620\n",
      "Epoch 4/100\n",
      "314/314 [==============================] - 0s 832us/step - loss: 0.3724 - accuracy: 0.8310 - val_loss: 0.3473 - val_accuracy: 0.8467\n",
      "Epoch 5/100\n",
      "314/314 [==============================] - 0s 808us/step - loss: 0.3713 - accuracy: 0.8333 - val_loss: 0.3412 - val_accuracy: 0.8593\n",
      "Epoch 6/100\n",
      "314/314 [==============================] - 0s 830us/step - loss: 0.3665 - accuracy: 0.8361 - val_loss: 0.3428 - val_accuracy: 0.8494\n",
      "Epoch 7/100\n",
      "314/314 [==============================] - 0s 802us/step - loss: 0.3697 - accuracy: 0.8377 - val_loss: 0.3386 - val_accuracy: 0.8573\n",
      "Epoch 8/100\n",
      "314/314 [==============================] - 0s 781us/step - loss: 0.3682 - accuracy: 0.8320 - val_loss: 0.3363 - val_accuracy: 0.8633\n",
      "Epoch 9/100\n",
      "314/314 [==============================] - 0s 806us/step - loss: 0.3681 - accuracy: 0.8376 - val_loss: 0.3378 - val_accuracy: 0.8613\n",
      "Epoch 10/100\n",
      "314/314 [==============================] - 0s 758us/step - loss: 0.3675 - accuracy: 0.8392 - val_loss: 0.3433 - val_accuracy: 0.8553\n",
      "Epoch 11/100\n",
      "314/314 [==============================] - 0s 887us/step - loss: 0.3633 - accuracy: 0.8365 - val_loss: 0.3359 - val_accuracy: 0.8653\n",
      "Epoch 12/100\n",
      "314/314 [==============================] - 0s 837us/step - loss: 0.3633 - accuracy: 0.8381 - val_loss: 0.3338 - val_accuracy: 0.8587\n",
      "Epoch 13/100\n",
      "314/314 [==============================] - 0s 825us/step - loss: 0.3599 - accuracy: 0.8416 - val_loss: 0.3330 - val_accuracy: 0.8580\n",
      "Epoch 14/100\n",
      "314/314 [==============================] - 0s 768us/step - loss: 0.3618 - accuracy: 0.8367 - val_loss: 0.3278 - val_accuracy: 0.8626\n",
      "Epoch 15/100\n",
      "314/314 [==============================] - 0s 777us/step - loss: 0.3613 - accuracy: 0.8385 - val_loss: 0.3300 - val_accuracy: 0.8593\n",
      "Epoch 16/100\n",
      "314/314 [==============================] - 0s 781us/step - loss: 0.3594 - accuracy: 0.8439 - val_loss: 0.3330 - val_accuracy: 0.8613\n",
      "Epoch 17/100\n",
      "314/314 [==============================] - 0s 809us/step - loss: 0.3631 - accuracy: 0.8418 - val_loss: 0.3356 - val_accuracy: 0.8573\n",
      "Epoch 18/100\n",
      "314/314 [==============================] - 0s 733us/step - loss: 0.3608 - accuracy: 0.8404 - val_loss: 0.3399 - val_accuracy: 0.8580\n",
      "Epoch 19/100\n",
      "314/314 [==============================] - 0s 793us/step - loss: 0.3601 - accuracy: 0.8375 - val_loss: 0.3286 - val_accuracy: 0.8686\n",
      "Epoch 20/100\n",
      "314/314 [==============================] - 0s 768us/step - loss: 0.3583 - accuracy: 0.8441 - val_loss: 0.3217 - val_accuracy: 0.8673\n",
      "Epoch 21/100\n",
      "314/314 [==============================] - 0s 774us/step - loss: 0.3586 - accuracy: 0.8415 - val_loss: 0.3244 - val_accuracy: 0.8653\n",
      "Epoch 22/100\n",
      "314/314 [==============================] - 0s 809us/step - loss: 0.3568 - accuracy: 0.8404 - val_loss: 0.3305 - val_accuracy: 0.8600\n",
      "Epoch 23/100\n",
      "314/314 [==============================] - 0s 781us/step - loss: 0.3587 - accuracy: 0.8412 - val_loss: 0.3339 - val_accuracy: 0.8653\n",
      "Epoch 24/100\n",
      "314/314 [==============================] - 0s 800us/step - loss: 0.3547 - accuracy: 0.8428 - val_loss: 0.3212 - val_accuracy: 0.8633\n",
      "Epoch 25/100\n",
      "314/314 [==============================] - 0s 780us/step - loss: 0.3544 - accuracy: 0.8419 - val_loss: 0.3172 - val_accuracy: 0.8686\n",
      "Epoch 26/100\n",
      "314/314 [==============================] - 0s 768us/step - loss: 0.3529 - accuracy: 0.8428 - val_loss: 0.3186 - val_accuracy: 0.8646\n",
      "Epoch 27/100\n",
      "314/314 [==============================] - 0s 879us/step - loss: 0.3545 - accuracy: 0.8423 - val_loss: 0.3149 - val_accuracy: 0.8686\n",
      "Epoch 28/100\n",
      "314/314 [==============================] - 0s 889us/step - loss: 0.3526 - accuracy: 0.8425 - val_loss: 0.3171 - val_accuracy: 0.8686\n",
      "Epoch 29/100\n",
      "314/314 [==============================] - 0s 760us/step - loss: 0.3522 - accuracy: 0.8439 - val_loss: 0.3159 - val_accuracy: 0.8646\n",
      "Epoch 30/100\n",
      "314/314 [==============================] - 0s 773us/step - loss: 0.3533 - accuracy: 0.8447 - val_loss: 0.3177 - val_accuracy: 0.8679\n",
      "Epoch 31/100\n",
      "314/314 [==============================] - 0s 834us/step - loss: 0.3523 - accuracy: 0.8463 - val_loss: 0.3156 - val_accuracy: 0.8633\n",
      "Epoch 32/100\n",
      "314/314 [==============================] - 0s 781us/step - loss: 0.3505 - accuracy: 0.8456 - val_loss: 0.3251 - val_accuracy: 0.8633\n",
      "Epoch 33/100\n",
      "314/314 [==============================] - 0s 819us/step - loss: 0.3535 - accuracy: 0.8441 - val_loss: 0.3176 - val_accuracy: 0.8686\n"
     ]
    }
   ],
   "source": [
    "model.compile(loss='categorical_crossentropy',\n",
    "              optimizer='adam',\n",
    "              metrics=['accuracy'])\n",
    "mycallbacks = [EarlyStopping(monitor='val_loss', patience=6)]\n",
    "\n",
    "history = model.fit(X_train, Y_train,\n",
    "                    batch_size=32,\n",
    "                    epochs=100,\n",
    "                    verbose=1,\n",
    "                    callbacks = mycallbacks,\n",
    "                    validation_data=(X_valid, Y_valid))"
   ]
  },
  {
   "cell_type": "code",
   "execution_count": 41,
   "id": "0cd52f5c",
   "metadata": {},
   "outputs": [
    {
     "name": "stdout",
     "output_type": "stream",
     "text": [
      "Test accuracy: 0.8227394819259644\n"
     ]
    }
   ],
   "source": [
    "score = model.evaluate(X_test, Y_test, verbose=0)\n",
    "print('Test accuracy:', score[1])"
   ]
  },
  {
   "cell_type": "code",
   "execution_count": null,
   "id": "6a5002f7",
   "metadata": {},
   "outputs": [],
   "source": [
    "\n"
   ]
  }
 ],
 "metadata": {
  "kernelspec": {
   "display_name": "Python 3",
   "language": "python",
   "name": "python3"
  },
  "language_info": {
   "codemirror_mode": {
    "name": "ipython",
    "version": 3
   },
   "file_extension": ".py",
   "mimetype": "text/x-python",
   "name": "python",
   "nbconvert_exporter": "python",
   "pygments_lexer": "ipython3",
   "version": "3.8.8"
  }
 },
 "nbformat": 4,
 "nbformat_minor": 5
}
