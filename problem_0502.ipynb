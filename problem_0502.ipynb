{
 "cells": [
  {
   "cell_type": "markdown",
   "metadata": {},
   "source": [
    "## Quiz #0502"
   ]
  },
  {
   "cell_type": "markdown",
   "metadata": {},
   "source": [
    "### \"Human Activity Recognition\" "
   ]
  },
  {
   "cell_type": "markdown",
   "metadata": {},
   "source": [
    "#### Answer the following questions by providing Python code:\n",
    "#### Objectives:\n",
    "- Carry out the EDA.\n",
    "- Carry out the data pre-processing.\n",
    "- Optimize and test a predictive model of your choice."
   ]
  },
  {
   "cell_type": "code",
   "execution_count": 1,
   "metadata": {},
   "outputs": [],
   "source": [
    "import numpy as np\n",
    "import pandas as pd\n",
    "import matplotlib.pyplot as plt\n",
    "import seaborn as sns\n",
    "import os\n",
    "import warnings\n",
    "from sklearn.model_selection import train_test_split, GridSearchCV\n",
    "from sklearn.neighbors import KNeighborsClassifier\n",
    "from sklearn.tree import DecisionTreeClassifier\n",
    "from sklearn.ensemble import RandomForestClassifier,AdaBoostClassifier, GradientBoostingClassifier\n",
    "from xgboost import XGBClassifier\n",
    "from sklearn import metrics, preprocessing\n",
    "warnings.filterwarnings(action='ignore')                  # Turn off the warnings.\n",
    "%matplotlib inline"
   ]
  },
  {
   "cell_type": "markdown",
   "metadata": {},
   "source": [
    "#### Read in data:\n",
    "The explanation on the dataset can be found [here](https://archive.ics.uci.edu/ml/datasets/human+activity+recognition+using+smartphones)."
   ]
  },
  {
   "cell_type": "code",
   "execution_count": 2,
   "metadata": {},
   "outputs": [],
   "source": [
    "# Go to the directory where the data file is located. \n",
    "# os.chdir(r'~~')                # Please, replace the path with your own. "
   ]
  },
  {
   "cell_type": "code",
   "execution_count": 3,
   "metadata": {},
   "outputs": [],
   "source": [
    "df = pd.read_csv('data_human activity recognition.csv', header='infer')"
   ]
  },
  {
   "cell_type": "code",
   "execution_count": 4,
   "metadata": {},
   "outputs": [
    {
     "data": {
      "text/plain": [
       "(19622, 160)"
      ]
     },
     "execution_count": 4,
     "metadata": {},
     "output_type": "execute_result"
    }
   ],
   "source": [
    "df.shape"
   ]
  },
  {
   "cell_type": "code",
   "execution_count": 5,
   "metadata": {},
   "outputs": [
    {
     "name": "stdout",
     "output_type": "stream",
     "text": [
      "Index(['Unnamed: 0', 'user_name', 'raw_timestamp_part_1',\n",
      "       'raw_timestamp_part_2', 'cvtd_timestamp', 'new_window', 'num_window',\n",
      "       'roll_belt', 'pitch_belt', 'yaw_belt',\n",
      "       ...\n",
      "       'gyros_forearm_x', 'gyros_forearm_y', 'gyros_forearm_z',\n",
      "       'accel_forearm_x', 'accel_forearm_y', 'accel_forearm_z',\n",
      "       'magnet_forearm_x', 'magnet_forearm_y', 'magnet_forearm_z', 'classe'],\n",
      "      dtype='object', length=160)\n"
     ]
    }
   ],
   "source": [
    "print(df.columns)"
   ]
  },
  {
   "cell_type": "markdown",
   "metadata": {},
   "source": [
    "1). Carry out the EDA. Check for the missing values. HINT: The response variable is 'classe'."
   ]
  },
  {
   "cell_type": "code",
   "execution_count": 6,
   "metadata": {},
   "outputs": [
    {
     "data": {
      "text/plain": [
       "Unnamed: 0              0\n",
       "user_name               0\n",
       "raw_timestamp_part_1    0\n",
       "raw_timestamp_part_2    0\n",
       "cvtd_timestamp          0\n",
       "                       ..\n",
       "accel_forearm_z         0\n",
       "magnet_forearm_x        0\n",
       "magnet_forearm_y        0\n",
       "magnet_forearm_z        0\n",
       "classe                  0\n",
       "Length: 160, dtype: int64"
      ]
     },
     "execution_count": 6,
     "metadata": {},
     "output_type": "execute_result"
    }
   ],
   "source": [
    "df.isnull().sum()"
   ]
  },
  {
   "cell_type": "markdown",
   "metadata": {},
   "source": [
    "2). Get rid of the columns that have more than 97% missing values."
   ]
  },
  {
   "cell_type": "code",
   "execution_count": 7,
   "metadata": {},
   "outputs": [],
   "source": [
    "for column in df.columns:\n",
    "    if df[column].isnull().sum()/df.shape[0] > 0.97 :\n",
    "        df.drop(columns=column,inplace=True)"
   ]
  },
  {
   "cell_type": "markdown",
   "metadata": {},
   "source": [
    "3). Get rid of the unnecessary columns. HINT: Those columns with \"time\" in the name and those that are obviously unnecessary."
   ]
  },
  {
   "cell_type": "code",
   "execution_count": 8,
   "metadata": {},
   "outputs": [],
   "source": [
    "df.drop(columns=['user_name','num_window','Unnamed: 0'],inplace=True)\n",
    "for column in df.columns:\n",
    "    if \"time\" in column :\n",
    "        df.drop(columns=column,inplace=True)"
   ]
  },
  {
   "cell_type": "markdown",
   "metadata": {},
   "source": [
    "4). Label encode the responde variable. HINT: use preprocessing.LabelEncoder(). "
   ]
  },
  {
   "cell_type": "code",
   "execution_count": 9,
   "metadata": {},
   "outputs": [],
   "source": [
    "df[\"new_window\"]=df[\"new_window\"].map({'yes': 1, 'no': 0})\n",
    "le = preprocessing.LabelEncoder()\n",
    "le.fit(df[\"classe\"])\n",
    "df[\"classe\"]=le.transform(df[\"classe\"])"
   ]
  },
  {
   "cell_type": "code",
   "execution_count": 10,
   "metadata": {},
   "outputs": [
    {
     "data": {
      "text/plain": [
       "array([[   0.  ,    1.41,    8.07, ...,  654.  ,  476.  ,    0.  ],\n",
       "       [   0.  ,    1.41,    8.07, ...,  661.  ,  473.  ,    0.  ],\n",
       "       [   0.  ,    1.42,    8.07, ...,  658.  ,  469.  ,    0.  ],\n",
       "       ...,\n",
       "       [   0.  ,  145.  ,  -35.5 , ..., -654.  ,  -70.  ,    4.  ],\n",
       "       [   0.  ,  143.  ,  -35.9 , ..., -678.  ,  -98.  ,    4.  ],\n",
       "       [   1.  ,  143.  ,  -36.  , ..., -686.  , -110.  ,    4.  ]])"
      ]
     },
     "execution_count": 10,
     "metadata": {},
     "output_type": "execute_result"
    }
   ],
   "source": [
    "df.values"
   ]
  },
  {
   "cell_type": "markdown",
   "metadata": {},
   "source": [
    "5). Carry out min-max scaling of the exploratory variables. HINT: use preprocessing.MinMaxScaler()."
   ]
  },
  {
   "cell_type": "code",
   "execution_count": 11,
   "metadata": {},
   "outputs": [
    {
     "data": {
      "text/html": [
       "<div>\n",
       "<style scoped>\n",
       "    .dataframe tbody tr th:only-of-type {\n",
       "        vertical-align: middle;\n",
       "    }\n",
       "\n",
       "    .dataframe tbody tr th {\n",
       "        vertical-align: top;\n",
       "    }\n",
       "\n",
       "    .dataframe thead th {\n",
       "        text-align: right;\n",
       "    }\n",
       "</style>\n",
       "<table border=\"1\" class=\"dataframe\">\n",
       "  <thead>\n",
       "    <tr style=\"text-align: right;\">\n",
       "      <th></th>\n",
       "      <th>new_window</th>\n",
       "      <th>roll_belt</th>\n",
       "      <th>pitch_belt</th>\n",
       "      <th>yaw_belt</th>\n",
       "      <th>total_accel_belt</th>\n",
       "      <th>gyros_belt_x</th>\n",
       "      <th>gyros_belt_y</th>\n",
       "      <th>gyros_belt_z</th>\n",
       "      <th>accel_belt_x</th>\n",
       "      <th>accel_belt_y</th>\n",
       "      <th>...</th>\n",
       "      <th>gyros_forearm_x</th>\n",
       "      <th>gyros_forearm_y</th>\n",
       "      <th>gyros_forearm_z</th>\n",
       "      <th>accel_forearm_x</th>\n",
       "      <th>accel_forearm_y</th>\n",
       "      <th>accel_forearm_z</th>\n",
       "      <th>magnet_forearm_x</th>\n",
       "      <th>magnet_forearm_y</th>\n",
       "      <th>magnet_forearm_z</th>\n",
       "      <th>classe</th>\n",
       "    </tr>\n",
       "  </thead>\n",
       "  <tbody>\n",
       "    <tr>\n",
       "      <th>0</th>\n",
       "      <td>0.0</td>\n",
       "      <td>0.158774</td>\n",
       "      <td>0.550129</td>\n",
       "      <td>0.23844</td>\n",
       "      <td>0.103448</td>\n",
       "      <td>0.319018</td>\n",
       "      <td>0.500000</td>\n",
       "      <td>0.467532</td>\n",
       "      <td>0.482927</td>\n",
       "      <td>0.313305</td>\n",
       "      <td>...</td>\n",
       "      <td>0.848286</td>\n",
       "      <td>0.022074</td>\n",
       "      <td>0.033753</td>\n",
       "      <td>0.707692</td>\n",
       "      <td>0.536977</td>\n",
       "      <td>0.313433</td>\n",
       "      <td>0.647029</td>\n",
       "      <td>0.652357</td>\n",
       "      <td>0.702375</td>\n",
       "      <td>0</td>\n",
       "    </tr>\n",
       "    <tr>\n",
       "      <th>1</th>\n",
       "      <td>0.0</td>\n",
       "      <td>0.158774</td>\n",
       "      <td>0.550129</td>\n",
       "      <td>0.23844</td>\n",
       "      <td>0.103448</td>\n",
       "      <td>0.325153</td>\n",
       "      <td>0.500000</td>\n",
       "      <td>0.467532</td>\n",
       "      <td>0.478049</td>\n",
       "      <td>0.313305</td>\n",
       "      <td>...</td>\n",
       "      <td>0.847901</td>\n",
       "      <td>0.022074</td>\n",
       "      <td>0.033753</td>\n",
       "      <td>0.707692</td>\n",
       "      <td>0.536977</td>\n",
       "      <td>0.312076</td>\n",
       "      <td>0.646516</td>\n",
       "      <td>0.655303</td>\n",
       "      <td>0.700921</td>\n",
       "      <td>0</td>\n",
       "    </tr>\n",
       "    <tr>\n",
       "      <th>2</th>\n",
       "      <td>0.0</td>\n",
       "      <td>0.158827</td>\n",
       "      <td>0.550129</td>\n",
       "      <td>0.23844</td>\n",
       "      <td>0.103448</td>\n",
       "      <td>0.319018</td>\n",
       "      <td>0.500000</td>\n",
       "      <td>0.467532</td>\n",
       "      <td>0.487805</td>\n",
       "      <td>0.317597</td>\n",
       "      <td>...</td>\n",
       "      <td>0.848286</td>\n",
       "      <td>0.022011</td>\n",
       "      <td>0.033837</td>\n",
       "      <td>0.711795</td>\n",
       "      <td>0.537621</td>\n",
       "      <td>0.316147</td>\n",
       "      <td>0.646516</td>\n",
       "      <td>0.654040</td>\n",
       "      <td>0.698982</td>\n",
       "      <td>0</td>\n",
       "    </tr>\n",
       "    <tr>\n",
       "      <th>3</th>\n",
       "      <td>0.0</td>\n",
       "      <td>0.159141</td>\n",
       "      <td>0.549957</td>\n",
       "      <td>0.23844</td>\n",
       "      <td>0.103448</td>\n",
       "      <td>0.325153</td>\n",
       "      <td>0.500000</td>\n",
       "      <td>0.464286</td>\n",
       "      <td>0.478049</td>\n",
       "      <td>0.309013</td>\n",
       "      <td>...</td>\n",
       "      <td>0.847901</td>\n",
       "      <td>0.022011</td>\n",
       "      <td>0.033837</td>\n",
       "      <td>0.704615</td>\n",
       "      <td>0.538907</td>\n",
       "      <td>0.314790</td>\n",
       "      <td>0.647541</td>\n",
       "      <td>0.654040</td>\n",
       "      <td>0.698982</td>\n",
       "      <td>0</td>\n",
       "    </tr>\n",
       "    <tr>\n",
       "      <th>4</th>\n",
       "      <td>0.0</td>\n",
       "      <td>0.159141</td>\n",
       "      <td>0.550129</td>\n",
       "      <td>0.23844</td>\n",
       "      <td>0.103448</td>\n",
       "      <td>0.325153</td>\n",
       "      <td>0.515625</td>\n",
       "      <td>0.467532</td>\n",
       "      <td>0.482927</td>\n",
       "      <td>0.304721</td>\n",
       "      <td>...</td>\n",
       "      <td>0.847901</td>\n",
       "      <td>0.022074</td>\n",
       "      <td>0.033753</td>\n",
       "      <td>0.704615</td>\n",
       "      <td>0.538907</td>\n",
       "      <td>0.314790</td>\n",
       "      <td>0.647029</td>\n",
       "      <td>0.652778</td>\n",
       "      <td>0.700921</td>\n",
       "      <td>0</td>\n",
       "    </tr>\n",
       "  </tbody>\n",
       "</table>\n",
       "<p>5 rows × 54 columns</p>\n",
       "</div>"
      ],
      "text/plain": [
       "   new_window  roll_belt  pitch_belt  yaw_belt  total_accel_belt  \\\n",
       "0         0.0   0.158774    0.550129   0.23844          0.103448   \n",
       "1         0.0   0.158774    0.550129   0.23844          0.103448   \n",
       "2         0.0   0.158827    0.550129   0.23844          0.103448   \n",
       "3         0.0   0.159141    0.549957   0.23844          0.103448   \n",
       "4         0.0   0.159141    0.550129   0.23844          0.103448   \n",
       "\n",
       "   gyros_belt_x  gyros_belt_y  gyros_belt_z  accel_belt_x  accel_belt_y  ...  \\\n",
       "0      0.319018      0.500000      0.467532      0.482927      0.313305  ...   \n",
       "1      0.325153      0.500000      0.467532      0.478049      0.313305  ...   \n",
       "2      0.319018      0.500000      0.467532      0.487805      0.317597  ...   \n",
       "3      0.325153      0.500000      0.464286      0.478049      0.309013  ...   \n",
       "4      0.325153      0.515625      0.467532      0.482927      0.304721  ...   \n",
       "\n",
       "   gyros_forearm_x  gyros_forearm_y  gyros_forearm_z  accel_forearm_x  \\\n",
       "0         0.848286         0.022074         0.033753         0.707692   \n",
       "1         0.847901         0.022074         0.033753         0.707692   \n",
       "2         0.848286         0.022011         0.033837         0.711795   \n",
       "3         0.847901         0.022011         0.033837         0.704615   \n",
       "4         0.847901         0.022074         0.033753         0.704615   \n",
       "\n",
       "   accel_forearm_y  accel_forearm_z  magnet_forearm_x  magnet_forearm_y  \\\n",
       "0         0.536977         0.313433          0.647029          0.652357   \n",
       "1         0.536977         0.312076          0.646516          0.655303   \n",
       "2         0.537621         0.316147          0.646516          0.654040   \n",
       "3         0.538907         0.314790          0.647541          0.654040   \n",
       "4         0.538907         0.314790          0.647029          0.652778   \n",
       "\n",
       "   magnet_forearm_z  classe  \n",
       "0          0.702375       0  \n",
       "1          0.700921       0  \n",
       "2          0.698982       0  \n",
       "3          0.698982       0  \n",
       "4          0.700921       0  \n",
       "\n",
       "[5 rows x 54 columns]"
      ]
     },
     "execution_count": 11,
     "metadata": {},
     "output_type": "execute_result"
    }
   ],
   "source": [
    "target= df.classe\n",
    "x = df.drop(columns=['classe']).values \n",
    "min_max_scaler = preprocessing.MinMaxScaler()\n",
    "x_scaled = min_max_scaler.fit_transform(x)\n",
    "df = pd.DataFrame(x_scaled)\n",
    "df.insert(53,'classe',target)\n",
    "df.rename(columns={0:'new_window', 1:'roll_belt', 2:'pitch_belt', 3:'yaw_belt', 4:'total_accel_belt',\n",
    "       5:'gyros_belt_x', 6:'gyros_belt_y', 7:'gyros_belt_z', 8:'accel_belt_x',\n",
    "       9:'accel_belt_y', 10:'accel_belt_z', 11:'magnet_belt_x', 12:'magnet_belt_y',\n",
    "       13:'magnet_belt_z', 14:'roll_arm', 15:'pitch_arm', 16:'yaw_arm', 17:'total_accel_arm',\n",
    "       18:'gyros_arm_x', 19:'gyros_arm_y', 20:'gyros_arm_z', 21:'accel_arm_x',\n",
    "       22:'accel_arm_y', 23:'accel_arm_z', 24:'magnet_arm_x', 25:'magnet_arm_y',\n",
    "       26:'magnet_arm_z', 27:'roll_dumbbell', 28:'pitch_dumbbell', 29:'yaw_dumbbell',\n",
    "       30:'total_accel_dumbbell', 31:'gyros_dumbbell_x', 32:'gyros_dumbbell_y',\n",
    "       33:'gyros_dumbbell_z', 34:'accel_dumbbell_x',35: 'accel_dumbbell_y',\n",
    "       36:'accel_dumbbell_z', 37:'magnet_dumbbell_x', 38:'magnet_dumbbell_y',\n",
    "       39:'magnet_dumbbell_z', 40:'roll_forearm', 41:'pitch_forearm', 42:'yaw_forearm',\n",
    "       43:'total_accel_forearm', 44:'gyros_forearm_x', 45:'gyros_forearm_y',\n",
    "       46:'gyros_forearm_z', 47:'accel_forearm_x', 48:'accel_forearm_y',\n",
    "       49:'accel_forearm_z', 50:'magnet_forearm_x', 51:'magnet_forearm_y',\n",
    "       52:'magnet_forearm_z'},inplace=True)\n",
    "df.head()"
   ]
  },
  {
   "cell_type": "markdown",
   "metadata": {},
   "source": [
    "6). Choose an algorithm and carry out the predictive analysis.\n",
    "\n",
    "- Optimize the hyperparameter(s)\n",
    "- Calculate the accuracy.\n",
    "- Aim for upper 90% accuracy."
   ]
  },
  {
   "cell_type": "code",
   "execution_count": 12,
   "metadata": {},
   "outputs": [
    {
     "name": "stdout",
     "output_type": "stream",
     "text": [
      "Number of estimators: 56\n",
      "Accuracy: 0.9964331210191083\n"
     ]
    }
   ],
   "source": [
    "x=df.drop(columns=['classe'])\n",
    "y=df.classe\n",
    "\n",
    "x_train, x_test, y_train, y_test= train_test_split(x, y, test_size=0.2) #splitting data with test size of 20%\n",
    "\n",
    "accuracies=[0]\n",
    "for n_estimators in range(1,100):\n",
    "    model=RandomForestClassifier(n_estimators)  #Creating a random forest with 100 decision trees\n",
    "    model.fit(x_train, y_train)  #Training our model\n",
    "    y_pred=model.predict(x_test)  #testing our model\n",
    "    if metrics.accuracy_score(y_test, y_pred)> max(accuracies):\n",
    "        best=n_estimators\n",
    "    accuracies.append(metrics.accuracy_score(y_test, y_pred))\n",
    "print(\"Number of estimators:\",best)\n",
    "print(\"Accuracy:\", max(accuracies))"
   ]
  },
  {
   "cell_type": "markdown",
   "metadata": {},
   "source": [
    "# Warning\n",
    "### It took about 5min to train and find the best accuracy, I advise you to reduce the interval range(1,100) to range(1,10) if you want to test it."
   ]
  },
  {
   "cell_type": "markdown",
   "metadata": {},
   "source": [
    "Number of estimators: 56\n",
    "\n",
    "Accuracy: 0.9961783439490446"
   ]
  }
 ],
 "metadata": {
  "kernelspec": {
   "display_name": "Python 3",
   "language": "python",
   "name": "python3"
  },
  "language_info": {
   "codemirror_mode": {
    "name": "ipython",
    "version": 3
   },
   "file_extension": ".py",
   "mimetype": "text/x-python",
   "name": "python",
   "nbconvert_exporter": "python",
   "pygments_lexer": "ipython3",
   "version": "3.8.8"
  },
  "toc": {
   "base_numbering": 1,
   "nav_menu": {},
   "number_sections": true,
   "sideBar": true,
   "skip_h1_title": false,
   "title_cell": "Table of Contents",
   "title_sidebar": "Contents",
   "toc_cell": false,
   "toc_position": {},
   "toc_section_display": true,
   "toc_window_display": false
  },
  "varInspector": {
   "cols": {
    "lenName": 16,
    "lenType": 16,
    "lenVar": 40
   },
   "kernels_config": {
    "python": {
     "delete_cmd_postfix": "",
     "delete_cmd_prefix": "del ",
     "library": "var_list.py",
     "varRefreshCmd": "print(var_dic_list())"
    },
    "r": {
     "delete_cmd_postfix": ") ",
     "delete_cmd_prefix": "rm(",
     "library": "var_list.r",
     "varRefreshCmd": "cat(var_dic_list()) "
    }
   },
   "types_to_exclude": [
    "module",
    "function",
    "builtin_function_or_method",
    "instance",
    "_Feature"
   ],
   "window_display": false
  }
 },
 "nbformat": 4,
 "nbformat_minor": 2
}
